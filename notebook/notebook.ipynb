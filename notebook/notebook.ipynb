{
 "metadata": {
  "language_info": {
   "codemirror_mode": {
    "name": "ipython",
    "version": 3
   },
   "file_extension": ".py",
   "mimetype": "text/x-python",
   "name": "python",
   "nbconvert_exporter": "python",
   "pygments_lexer": "ipython3",
   "version": "3.7.4-final"
  },
  "orig_nbformat": 2,
  "kernelspec": {
   "name": "python3",
   "display_name": "Python 3"
  }
 },
 "nbformat": 4,
 "nbformat_minor": 2,
 "cells": [
  {
   "cell_type": "code",
   "execution_count": null,
   "metadata": {},
   "outputs": [],
   "source": [
    "import os\n",
    "import sys\n",
    "import requests as req\n",
    "import wget\n",
    "from bs4 import BeautifulSoup as soup\n",
    "import json"
   ]
  },
  {
   "source": [
    "Check if the MangaX directory exists in the downloads folder\n",
    "\n",
    "---"
   ],
   "cell_type": "markdown",
   "metadata": {}
  },
  {
   "cell_type": "code",
   "execution_count": null,
   "metadata": {
    "tags": []
   },
   "outputs": [],
   "source": [
    "def chk_dir():\n",
    "    os.chdir(\"D:\\\\Downloads\")\n",
    "    print('We are now in {}'.format(os.getcwd()))\n",
    "    directories = os.listdir()\n",
    "    print('\\nDirectories include\\n{}'.format(directories))\n",
    "\n",
    "    if 'MangaX_notebook' not in directories:\n",
    "        print('\\nMangaX does not exist.')\n",
    "        os.mkdir(\"D:\\\\Downloads\" + '\\\\MangaX_notebook')\n",
    "        os.chdir(\"D:\\\\Downloads\\\\MangaX\")\n",
    "    else:\n",
    "        print('\\nMangaX now exists.')\n",
    "        os.chdir(\"D:\\\\Downloads\\\\MangaX\")\n",
    "        #os.chdir(\"..\")\n",
    "    print('We are now in {}'.format(os.getcwd()))\n",
    "\n",
    "chk_dir()"
   ]
  },
  {
   "source": [
    "Download a chapter\n",
    "\n",
    "---"
   ],
   "cell_type": "markdown",
   "metadata": {}
  },
  {
   "cell_type": "code",
   "execution_count": null,
   "metadata": {
    "tags": []
   },
   "outputs": [],
   "source": [
    "#filename = wget.download('https://s8.mkklcdnv8.com/mangakakalot/p1/pn918005/vol2_chapter_115/1.jpg')\n",
    "agent = {\"User-Agent\":\"Mozilla/5.0\"}\n",
    "r = req.get('https://s8.mkklcdnv8.com/mangakakalot/p1/pn918005/vol2_chapter_115/1.jpg', headers=agent)\n",
    "print(r.status_code)\n"
   ]
  },
  {
   "cell_type": "code",
   "execution_count": 35,
   "metadata": {
    "tags": []
   },
   "outputs": [
    {
     "output_type": "stream",
     "name": "stdout",
     "text": "200\n"
    }
   ],
   "source": [
    "headers = {\n",
    "    'referer': 'https://manganelo.com/chapter/pn918005/chapter_115'\n",
    "}\n",
    "r = req.get('https://s8.mkklcdnv8.com/mangakakalot/p1/pn918005/vol2_chapter_115/1.jpg', stream=True, headers=headers)\n",
    "print(r.status_code)\n",
    "downloaded_file = open(\"sun-hat.jpg\", \"wb\")\n",
    "for chunk in r.iter_content(chunk_size=256):\n",
    "    if chunk:\n",
    "        downloaded_file.write(chunk)"
   ]
  }
 ]
}